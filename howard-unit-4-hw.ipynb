{
 "metadata": {
  "language_info": {
   "codemirror_mode": {
    "name": "ipython",
    "version": 3
   },
   "file_extension": ".py",
   "mimetype": "text/x-python",
   "name": "python",
   "nbconvert_exporter": "python",
   "pygments_lexer": "ipython3",
   "version": "3.8.3-final"
  },
  "orig_nbformat": 2,
  "kernelspec": {
   "name": "Python 3.8.3 64-bit ('base': conda)",
   "display_name": "Python 3.8.3 64-bit ('base': conda)",
   "metadata": {
    "interpreter": {
     "hash": "9032458e503ab28519db53568226f597adad35e1b11ccc360aee2243f83ff687"
    }
   }
  }
 },
 "nbformat": 4,
 "nbformat_minor": 2,
 "cells": [
  {
   "cell_type": "code",
   "execution_count": 14,
   "metadata": {},
   "outputs": [],
   "source": [
    "from pathlib import Path\n",
    "import csv\n"
   ]
  },
  {
   "cell_type": "code",
   "execution_count": 27,
   "metadata": {},
   "outputs": [],
   "source": [
    "# bring in portfolios\n",
    "filepath_aapl = Path(\"../../rice-hou-fin-pt-09-2020-u-c/hw/04-Pandas/Instructions/Starter_Code/Resources/aapl_historical.csv\")\n",
    "filepath_returns = Path(\"../../rice-hou-fin-pt-09-2020-u-c/hw/04-Pandas/Instructions/Starter_Code/Resources/algo_returns.csv\")\n",
    "filepath_cost = Path(\"../../rice-hou-fin-pt-09-2020-u-c/hw/04-Pandas/Instructions/Starter_Code/Resources/cost_historical.csv\")\n",
    "filepath_goog = Path(\"../../rice-hou-fin-pt-09-2020-u-c/hw/04-Pandas/Instructions/Starter_Code/Resources/goog_historical.csv\")\n",
    "filepath_sp500 = Path(\"../../rice-hou-fin-pt-09-2020-u-c/hw/04-Pandas/Instructions/Starter_Code/Resources/sp500_history.csv\")\n",
    "filepath_whale = Path(\"../../rice-hou-fin-pt-09-2020-u-c/hw/04-Pandas/Instructions/Starter_Code/Resources/whale_returns.csv\")"
   ]
  },
  {
   "cell_type": "code",
   "execution_count": 28,
   "metadata": {},
   "outputs": [],
   "source": [
    "aapl_df = pd.read_csv(filepath_aapl)\n",
    "returns_df = pd.read_csv(filepath_returns)\n",
    "cost_df = pd.read_csv(filepath_cost)\n",
    "goog_df = pd.read_csv(filepath_goog)\n",
    "sp500_df = pd.read_csv(filepath_sp500)\n",
    "whale_df = pd.read_csv(filepath_whale)"
   ]
  },
  {
   "cell_type": "code",
   "execution_count": null,
   "metadata": {},
   "outputs": [],
   "source": []
  }
 ]
}