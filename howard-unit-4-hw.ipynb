{
 "metadata": {
  "language_info": {
   "codemirror_mode": {
    "name": "ipython",
    "version": 3
   },
   "file_extension": ".py",
   "mimetype": "text/x-python",
   "name": "python",
   "nbconvert_exporter": "python",
   "pygments_lexer": "ipython3",
   "version": "3.8.3-final"
  },
  "orig_nbformat": 2,
  "kernelspec": {
   "name": "Python 3.8.3 64-bit ('base': conda)",
   "display_name": "Python 3.8.3 64-bit ('base': conda)",
   "metadata": {
    "interpreter": {
     "hash": "9032458e503ab28519db53568226f597adad35e1b11ccc360aee2243f83ff687"
    }
   }
  }
 },
 "nbformat": 4,
 "nbformat_minor": 2,
 "cells": [
  {
   "cell_type": "code",
   "execution_count": 5,
   "metadata": {},
   "outputs": [],
   "source": [
    "from pathlib import Path\n",
    "import csv\n"
   ]
  },
  {
   "cell_type": "code",
   "execution_count": 6,
   "metadata": {},
   "outputs": [],
   "source": [
    "# bring in portfolios\n",
    "filepath_aapl = Path(\"../rice-hou-fin-pt-09-2020-u-c/hw/04-Pandas/Instructions/Starter_Code/Resources/aapl_historical.csv\")\n",
    "filepath_returns = Path(\"../rice-hou-fin-pt-09-2020-u-c/hw/04-Pandas/Instructions/Starter_Code/Resources/algo_returns.csv\")\n",
    "filepath_cost = Path(\"../rice-hou-fin-pt-09-2020-u-c/hw/04-Pandas/Instructions/Starter_Code/Resources/cost_historical.csv\")\n",
    "filepath_goog = Path(\"../rice-hou-fin-pt-09-2020-u-c/hw/04-Pandas/Instructions/Starter_Code/Resources/goog_historical.csv\")\n",
    "filepath_sp500 = Path(\"../rice-hou-fin-pt-09-2020-u-c/hw/04-Pandas/Instructions/Starter_Code/Resources/sp500_history.csv\")\n",
    "filepath_whale = Path(\"../rice-hou-fin-pt-09-2020-u-c/hw/04-Pandas/Instructions/Starter_Code/Resources/whale_returns.csv\")"
   ]
  },
  {
   "cell_type": "code",
   "execution_count": 7,
   "metadata": {},
   "outputs": [],
   "source": [
    "import pandas as pd\n",
    "import numpy as np \n",
    "import datetime as dt"
   ]
  },
  {
   "cell_type": "code",
   "execution_count": 22,
   "metadata": {},
   "outputs": [],
   "source": [
    "# convert filepaths to df\n",
    "\n",
    "aapl_df = pd.read_csv(filepath_aapl)\n",
    "returns_df = pd.read_csv(filepath_returns)\n",
    "cost_df = pd.read_csv(filepath_cost)\n",
    "goog_df = pd.read_csv(filepath_goog)\n",
    "sp500_df = pd.read_csv(filepath_sp500)\n",
    "whale_df = pd.read_csv(filepath_whale)\n",
    "\n"
   ]
  },
  {
   "cell_type": "code",
   "execution_count": 32,
   "metadata": {},
   "outputs": [
    {
     "output_type": "error",
     "ename": "NameError",
     "evalue": "name 'df' is not defined",
     "traceback": [
      "\u001b[1;31m---------------------------------------------------------------------------\u001b[0m",
      "\u001b[1;31mNameError\u001b[0m                                 Traceback (most recent call last)",
      "\u001b[1;32m<ipython-input-32-ba91577be321>\u001b[0m in \u001b[0;36m<module>\u001b[1;34m\u001b[0m\n\u001b[0;32m      1\u001b[0m \u001b[1;31m# convert to DateTimeIndex\u001b[0m\u001b[1;33m\u001b[0m\u001b[1;33m\u001b[0m\u001b[1;33m\u001b[0m\u001b[0m\n\u001b[1;32m----> 2\u001b[1;33m \u001b[0maapl_df\u001b[0m\u001b[1;33m[\u001b[0m\u001b[1;34m'date'\u001b[0m\u001b[1;33m]\u001b[0m \u001b[1;33m=\u001b[0m \u001b[0mdf\u001b[0m\u001b[1;33m.\u001b[0m\u001b[0mDateTimeIndex\u001b[0m\u001b[1;33m\u001b[0m\u001b[1;33m\u001b[0m\u001b[0m\n\u001b[0m",
      "\u001b[1;31mNameError\u001b[0m: name 'df' is not defined"
     ]
    }
   ],
   "source": [
    "# convert to DateTimeIndex\n",
    "aapl_df['date'] = df.DateTimeIndex"
   ]
  },
  {
   "cell_type": "code",
   "execution_count": null,
   "metadata": {},
   "outputs": [],
   "source": []
  }
 ]
}