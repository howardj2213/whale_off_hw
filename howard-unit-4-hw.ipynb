{
 "metadata": {
  "language_info": {
   "codemirror_mode": {
    "name": "ipython",
    "version": 3
   },
   "file_extension": ".py",
   "mimetype": "text/x-python",
   "name": "python",
   "nbconvert_exporter": "python",
   "pygments_lexer": "ipython3",
   "version": "3.8.3-final"
  },
  "orig_nbformat": 2,
  "kernelspec": {
   "name": "Python 3.8.3 64-bit ('base': conda)",
   "display_name": "Python 3.8.3 64-bit ('base': conda)",
   "metadata": {
    "interpreter": {
     "hash": "9032458e503ab28519db53568226f597adad35e1b11ccc360aee2243f83ff687"
    }
   }
  }
 },
 "nbformat": 4,
 "nbformat_minor": 2,
 "cells": [
  {
   "cell_type": "code",
   "execution_count": 58,
   "metadata": {},
   "outputs": [],
   "source": [
    "import numpy as np\n",
    "import pandas as pd\n",
    "from pathlib import Path\n",
    "import csv\n",
    "%matplotlib inline"
   ]
  },
  {
   "cell_type": "code",
   "execution_count": 59,
   "metadata": {},
   "outputs": [],
   "source": [
    "# bring in portfolios\n",
    "aapl_data = Path(\"../../rice-hou-fin-pt-09-2020-u-c/hw/04-Pandas/Instructions/Starter_Code/Resources/aapl_historical.csv\")\n",
    "returns_data = Path(\"../../rice-hou-fin-pt-09-2020-u-c/hw/04-Pandas/Instructions/Starter_Code/Resources/algo_returns.csv\")\n",
    "cost_data = Path(\"../../rice-hou-fin-pt-09-2020-u-c/hw/04-Pandas/Instructions/Starter_Code/Resources/cost_historical.csv\")\n",
    "goog_data = Path(\"../../rice-hou-fin-pt-09-2020-u-c/hw/04-Pandas/Instructions/Starter_Code/Resources/goog_historical.csv\")\n",
    "sp500_data = Path(\"../../rice-hou-fin-pt-09-2020-u-c/hw/04-Pandas/Instructions/Starter_Code/Resources/sp500_history.csv\")\n",
    "whale_data = Path(\"../../rice-hou-fin-pt-09-2020-u-c/hw/04-Pandas/Instructions/Starter_Code/Resources/whale_returns.csv\")"
   ]
  },
  {
   "cell_type": "code",
   "execution_count": 116,
   "metadata": {},
   "outputs": [],
   "source": [
    "# Convert to DateTimeIndex\n",
    "aapl = pd.read_csv(aapl_data, index_col=\"Trade DATE\", infer_datetime_format=True, parse_dates=True)\n",
    "returns = pd.read_csv(returns_data, index_col=\"Date\", infer_datetime_format=True, parse_dates=True)\n",
    "cost = pd.read_csv(cost_data, index_col=\"Trade DATE\", infer_datetime_format=True, parse_dates=True)\n",
    "goog = pd.read_csv(goog_data, index_col=\"Trade DATE\", infer_datetime_format=True, parse_dates=True)\n",
    "sp500 = pd.read_csv(sp500_data, index_col=\"Date\", infer_datetime_format=True, parse_dates=True)\n",
    "whale = pd.read_csv(whale_data, index_col=\"Date\", infer_datetime_format=True, parse_dates=True)"
   ]
  },
  {
   "cell_type": "code",
   "execution_count": 197,
   "metadata": {},
   "outputs": [
    {
     "output_type": "execute_result",
     "data": {
      "text/plain": [
       "0"
      ]
     },
     "metadata": {},
     "execution_count": 197
    }
   ],
   "source": [
    "# detect nulls for aapl\n",
    "aapl.isnull().sum().sum()"
   ]
  },
  {
   "cell_type": "code",
   "execution_count": 198,
   "metadata": {},
   "outputs": [
    {
     "output_type": "execute_result",
     "data": {
      "text/plain": [
       "0"
      ]
     },
     "metadata": {},
     "execution_count": 198
    }
   ],
   "source": [
    "#detect nulls for returns \n",
    "## originally ran this as a not .sum.sum but .values.any(), then resaved, so now null count shows 0 instead of what was originally there before dropping nulls\n",
    "returns.isnull().sum().sum()"
   ]
  },
  {
   "cell_type": "code",
   "execution_count": 199,
   "metadata": {},
   "outputs": [
    {
     "output_type": "execute_result",
     "data": {
      "text/plain": [
       "0"
      ]
     },
     "metadata": {},
     "execution_count": 199
    }
   ],
   "source": [
    "# detect nulls for cost\n",
    "cost.isnull().sum().sum()"
   ]
  },
  {
   "cell_type": "code",
   "execution_count": 200,
   "metadata": {},
   "outputs": [
    {
     "output_type": "execute_result",
     "data": {
      "text/plain": [
       "0"
      ]
     },
     "metadata": {},
     "execution_count": 200
    }
   ],
   "source": [
    "# detect nulls for goog\n",
    "goog.isnull().sum().sum()"
   ]
  },
  {
   "cell_type": "code",
   "execution_count": 131,
   "metadata": {},
   "outputs": [
    {
     "output_type": "execute_result",
     "data": {
      "text/plain": [
       "0"
      ]
     },
     "metadata": {},
     "execution_count": 131
    }
   ],
   "source": [
    "# detect nulls for sp500 with .sum.sum \n",
    "sp500.isnull().sum().sum()\n"
   ]
  },
  {
   "cell_type": "code",
   "execution_count": 132,
   "metadata": {},
   "outputs": [
    {
     "output_type": "execute_result",
     "data": {
      "text/plain": [
       "4"
      ]
     },
     "metadata": {},
     "execution_count": 132
    }
   ],
   "source": [
    "# detect nulls for whale\n",
    "whale.isnull().sum().sum()"
   ]
  },
  {
   "cell_type": "code",
   "execution_count": 142,
   "metadata": {},
   "outputs": [],
   "source": [
    "# remove nulls for whale & returns\n",
    "whale = whale.dropna()\n",
    "returns = returns.dropna()"
   ]
  },
  {
   "cell_type": "code",
   "execution_count": 203,
   "metadata": {},
   "outputs": [
    {
     "output_type": "execute_result",
     "data": {
      "text/plain": [
       "           Symbol    NOCP\n",
       "Trade DATE               \n",
       "2019-05-09   AAPL  200.72\n",
       "2019-05-08   AAPL  202.90\n",
       "2019-05-07   AAPL  202.86\n",
       "2019-05-06   AAPL  208.48\n",
       "2019-05-03   AAPL  211.75\n",
       "...           ...     ...\n",
       "2018-05-17   AAPL  186.99\n",
       "2018-05-16   AAPL  188.18\n",
       "2018-05-15   AAPL  186.44\n",
       "2018-05-14   AAPL  188.15\n",
       "2018-05-11   AAPL  188.59\n",
       "\n",
       "[250 rows x 2 columns]"
      ],
      "text/html": "<div>\n<style scoped>\n    .dataframe tbody tr th:only-of-type {\n        vertical-align: middle;\n    }\n\n    .dataframe tbody tr th {\n        vertical-align: top;\n    }\n\n    .dataframe thead th {\n        text-align: right;\n    }\n</style>\n<table border=\"1\" class=\"dataframe\">\n  <thead>\n    <tr style=\"text-align: right;\">\n      <th></th>\n      <th>Symbol</th>\n      <th>NOCP</th>\n    </tr>\n    <tr>\n      <th>Trade DATE</th>\n      <th></th>\n      <th></th>\n    </tr>\n  </thead>\n  <tbody>\n    <tr>\n      <th>2019-05-09</th>\n      <td>AAPL</td>\n      <td>200.72</td>\n    </tr>\n    <tr>\n      <th>2019-05-08</th>\n      <td>AAPL</td>\n      <td>202.90</td>\n    </tr>\n    <tr>\n      <th>2019-05-07</th>\n      <td>AAPL</td>\n      <td>202.86</td>\n    </tr>\n    <tr>\n      <th>2019-05-06</th>\n      <td>AAPL</td>\n      <td>208.48</td>\n    </tr>\n    <tr>\n      <th>2019-05-03</th>\n      <td>AAPL</td>\n      <td>211.75</td>\n    </tr>\n    <tr>\n      <th>...</th>\n      <td>...</td>\n      <td>...</td>\n    </tr>\n    <tr>\n      <th>2018-05-17</th>\n      <td>AAPL</td>\n      <td>186.99</td>\n    </tr>\n    <tr>\n      <th>2018-05-16</th>\n      <td>AAPL</td>\n      <td>188.18</td>\n    </tr>\n    <tr>\n      <th>2018-05-15</th>\n      <td>AAPL</td>\n      <td>186.44</td>\n    </tr>\n    <tr>\n      <th>2018-05-14</th>\n      <td>AAPL</td>\n      <td>188.15</td>\n    </tr>\n    <tr>\n      <th>2018-05-11</th>\n      <td>AAPL</td>\n      <td>188.59</td>\n    </tr>\n  </tbody>\n</table>\n<p>250 rows × 2 columns</p>\n</div>"
     },
     "metadata": {},
     "execution_count": 203
    }
   ],
   "source": [
    "aapl"
   ]
  },
  {
   "cell_type": "code",
   "execution_count": 170,
   "metadata": {},
   "outputs": [],
   "source": [
    "# remove $ sign from sp500\n",
    "sp500[\"Close\"] =sp500[\"Close\"].str.replace(\"$\",\"\")"
   ]
  },
  {
   "cell_type": "code",
   "execution_count": 195,
   "metadata": {},
   "outputs": [
    {
     "output_type": "execute_result",
     "data": {
      "text/plain": [
       "Date\n",
       "2019-04-23    2933.68\n",
       "2019-04-22    2907.97\n",
       "2019-04-18    2905.03\n",
       "2019-04-17    2900.45\n",
       "2019-04-16    2907.06\n",
       "               ...   \n",
       "2012-10-05    1460.93\n",
       "2012-10-04    1461.40\n",
       "2012-10-03    1450.99\n",
       "2012-10-02    1445.75\n",
       "2012-10-01    1444.49\n",
       "Name: Close, Length: 1649, dtype: float64"
      ]
     },
     "metadata": {},
     "execution_count": 195
    }
   ],
   "source": [
    "# convert sp500 data type to int\n",
    "pd.to_numeric(sp500)"
   ]
  },
  {
   "cell_type": "code",
   "execution_count": 196,
   "metadata": {},
   "outputs": [
    {
     "output_type": "execute_result",
     "data": {
      "text/plain": [
       "Date\n",
       "2019-04-22   -0.008764\n",
       "2019-04-18   -0.001011\n",
       "2019-04-17   -0.001577\n",
       "2019-04-16    0.002279\n",
       "2019-04-15   -0.000509\n",
       "Name: Close, dtype: float64"
      ]
     },
     "metadata": {},
     "execution_count": 196
    }
   ],
   "source": [
    "# convert sp500 from close to daily returns\n",
    "sp500_daily = sp500.pct_change()\n",
    "sp500_daily = sp500_daily.dropna()\n",
    "sp500_daily.head()\n"
   ]
  },
  {
   "cell_type": "code",
   "execution_count": 221,
   "metadata": {},
   "outputs": [],
   "source": [
    "#combine whale, algo returns, and sp500 to one df\n",
    "\n",
    "combined_df = pd.concat([returns,sp500_daily, whale], axis=\"columns\", join=\"inner\")\n",
    "combined_df.sort_index(inplace=True)\n",
    "combined = combined_df.rename(columns={\"Close\":\"S&P 500\"})\n"
   ]
  },
  {
   "cell_type": "code",
   "execution_count": 222,
   "metadata": {},
   "outputs": [
    {
     "output_type": "execute_result",
     "data": {
      "text/plain": [
       "              Algo 1    Algo 2   S&P 500  SOROS FUND MANAGEMENT LLC  \\\n",
       "Date                                                                  \n",
       "2015-03-03 -0.001942 -0.000949  0.004408                  -0.001266   \n",
       "2015-03-04 -0.008589  0.002416 -0.001195                   0.002230   \n",
       "2015-03-05 -0.000955  0.004323  0.014378                   0.004016   \n",
       "2015-03-06 -0.004957 -0.011460 -0.003929                  -0.007905   \n",
       "2015-03-09 -0.005447  0.001303  0.017254                   0.000582   \n",
       "...              ...       ...       ...                        ...   \n",
       "2019-04-15 -0.004331 -0.004572 -0.000509                  -0.001422   \n",
       "2019-04-16 -0.006945  0.002899  0.002279                   0.002699   \n",
       "2019-04-17 -0.010301 -0.005228 -0.001577                  -0.002897   \n",
       "2019-04-18 -0.000588 -0.001229 -0.001011                   0.001448   \n",
       "2019-04-22  0.000677 -0.001936 -0.008764                  -0.002586   \n",
       "\n",
       "            PAULSON & CO.INC.   TIGER GLOBAL MANAGEMENT LLC  \\\n",
       "Date                                                          \n",
       "2015-03-03           -0.004981                    -0.000496   \n",
       "2015-03-04            0.003241                    -0.002534   \n",
       "2015-03-05            0.004076                     0.002355   \n",
       "2015-03-06           -0.003574                    -0.008481   \n",
       "2015-03-09            0.004225                     0.005843   \n",
       "...                        ...                          ...   \n",
       "2019-04-15           -0.001156                     0.000398   \n",
       "2019-04-16            0.000388                    -0.000831   \n",
       "2019-04-17           -0.006467                    -0.004409   \n",
       "2019-04-18            0.001222                     0.000582   \n",
       "2019-04-22           -0.007333                    -0.003640   \n",
       "\n",
       "            BERKSHIRE HATHAWAY INC  \n",
       "Date                                \n",
       "2015-03-03               -0.006569  \n",
       "2015-03-04                0.004213  \n",
       "2015-03-05                0.006726  \n",
       "2015-03-06               -0.013098  \n",
       "2015-03-09               -0.001652  \n",
       "...                            ...  \n",
       "2019-04-15               -0.010492  \n",
       "2019-04-16                0.000837  \n",
       "2019-04-17                0.003222  \n",
       "2019-04-18                0.001916  \n",
       "2019-04-22               -0.001088  \n",
       "\n",
       "[1042 rows x 7 columns]"
      ],
      "text/html": "<div>\n<style scoped>\n    .dataframe tbody tr th:only-of-type {\n        vertical-align: middle;\n    }\n\n    .dataframe tbody tr th {\n        vertical-align: top;\n    }\n\n    .dataframe thead th {\n        text-align: right;\n    }\n</style>\n<table border=\"1\" class=\"dataframe\">\n  <thead>\n    <tr style=\"text-align: right;\">\n      <th></th>\n      <th>Algo 1</th>\n      <th>Algo 2</th>\n      <th>S&amp;P 500</th>\n      <th>SOROS FUND MANAGEMENT LLC</th>\n      <th>PAULSON &amp; CO.INC.</th>\n      <th>TIGER GLOBAL MANAGEMENT LLC</th>\n      <th>BERKSHIRE HATHAWAY INC</th>\n    </tr>\n    <tr>\n      <th>Date</th>\n      <th></th>\n      <th></th>\n      <th></th>\n      <th></th>\n      <th></th>\n      <th></th>\n      <th></th>\n    </tr>\n  </thead>\n  <tbody>\n    <tr>\n      <th>2015-03-03</th>\n      <td>-0.001942</td>\n      <td>-0.000949</td>\n      <td>0.004408</td>\n      <td>-0.001266</td>\n      <td>-0.004981</td>\n      <td>-0.000496</td>\n      <td>-0.006569</td>\n    </tr>\n    <tr>\n      <th>2015-03-04</th>\n      <td>-0.008589</td>\n      <td>0.002416</td>\n      <td>-0.001195</td>\n      <td>0.002230</td>\n      <td>0.003241</td>\n      <td>-0.002534</td>\n      <td>0.004213</td>\n    </tr>\n    <tr>\n      <th>2015-03-05</th>\n      <td>-0.000955</td>\n      <td>0.004323</td>\n      <td>0.014378</td>\n      <td>0.004016</td>\n      <td>0.004076</td>\n      <td>0.002355</td>\n      <td>0.006726</td>\n    </tr>\n    <tr>\n      <th>2015-03-06</th>\n      <td>-0.004957</td>\n      <td>-0.011460</td>\n      <td>-0.003929</td>\n      <td>-0.007905</td>\n      <td>-0.003574</td>\n      <td>-0.008481</td>\n      <td>-0.013098</td>\n    </tr>\n    <tr>\n      <th>2015-03-09</th>\n      <td>-0.005447</td>\n      <td>0.001303</td>\n      <td>0.017254</td>\n      <td>0.000582</td>\n      <td>0.004225</td>\n      <td>0.005843</td>\n      <td>-0.001652</td>\n    </tr>\n    <tr>\n      <th>...</th>\n      <td>...</td>\n      <td>...</td>\n      <td>...</td>\n      <td>...</td>\n      <td>...</td>\n      <td>...</td>\n      <td>...</td>\n    </tr>\n    <tr>\n      <th>2019-04-15</th>\n      <td>-0.004331</td>\n      <td>-0.004572</td>\n      <td>-0.000509</td>\n      <td>-0.001422</td>\n      <td>-0.001156</td>\n      <td>0.000398</td>\n      <td>-0.010492</td>\n    </tr>\n    <tr>\n      <th>2019-04-16</th>\n      <td>-0.006945</td>\n      <td>0.002899</td>\n      <td>0.002279</td>\n      <td>0.002699</td>\n      <td>0.000388</td>\n      <td>-0.000831</td>\n      <td>0.000837</td>\n    </tr>\n    <tr>\n      <th>2019-04-17</th>\n      <td>-0.010301</td>\n      <td>-0.005228</td>\n      <td>-0.001577</td>\n      <td>-0.002897</td>\n      <td>-0.006467</td>\n      <td>-0.004409</td>\n      <td>0.003222</td>\n    </tr>\n    <tr>\n      <th>2019-04-18</th>\n      <td>-0.000588</td>\n      <td>-0.001229</td>\n      <td>-0.001011</td>\n      <td>0.001448</td>\n      <td>0.001222</td>\n      <td>0.000582</td>\n      <td>0.001916</td>\n    </tr>\n    <tr>\n      <th>2019-04-22</th>\n      <td>0.000677</td>\n      <td>-0.001936</td>\n      <td>-0.008764</td>\n      <td>-0.002586</td>\n      <td>-0.007333</td>\n      <td>-0.003640</td>\n      <td>-0.001088</td>\n    </tr>\n  </tbody>\n</table>\n<p>1042 rows × 7 columns</p>\n</div>"
     },
     "metadata": {},
     "execution_count": 222
    }
   ],
   "source": [
    "combined"
   ]
  },
  {
   "cell_type": "code",
   "execution_count": null,
   "metadata": {},
   "outputs": [],
   "source": []
  }
 ]
}